{
 "cells": [
  {
   "cell_type": "markdown",
   "metadata": {},
   "source": [
    "#### Example on how to make basic plots from UFEMISM output"
   ]
  },
  {
   "cell_type": "code",
   "execution_count": 9,
   "metadata": {},
   "outputs": [
    {
     "name": "stdout",
     "output_type": "stream",
     "text": [
      "The autoreload extension is already loaded. To reload it, use:\n",
      "  %reload_ext autoreload\n"
     ]
    }
   ],
   "source": [
    "%load_ext autoreload\n",
    "%autoreload 2\n",
    "\n",
    "from main_run import *\n",
    "from main_mesh import *"
   ]
  },
  {
   "cell_type": "markdown",
   "metadata": {},
   "source": [
    "Choose directory of run and read"
   ]
  },
  {
   "cell_type": "code",
   "execution_count": 43,
   "metadata": {},
   "outputs": [
    {
     "data": {
      "text/plain": [
       "1"
      ]
     },
     "execution_count": 43,
     "metadata": {},
     "output_type": "execute_result"
    }
   ],
   "source": [
    "#Load run\n",
    "run = Run('../../automated_testing/integrated_tests/idealised/MISMIPplus/results_5km_iceocean1r')\n",
    "\n",
    "run.Nmeshes"
   ]
  },
  {
   "cell_type": "markdown",
   "metadata": {},
   "source": [
    "Make a plot of scalar diagnostics"
   ]
  },
  {
   "cell_type": "code",
   "execution_count": null,
   "metadata": {},
   "outputs": [],
   "source": [
    "run.plot_scalars()"
   ]
  },
  {
   "cell_type": "markdown",
   "metadata": {},
   "source": [
    "Make plot of computation resources"
   ]
  },
  {
   "cell_type": "code",
   "execution_count": null,
   "metadata": {},
   "outputs": [],
   "source": [
    "# Main model run\n",
    "run.plot_comptime()"
   ]
  },
  {
   "cell_type": "code",
   "execution_count": 47,
   "metadata": {},
   "outputs": [
    {
     "name": "stdout",
     "output_type": "stream",
     "text": [
      "Created ../../automated_testing/integrated_tests/idealised/MISMIPplus/results_5km_iceocean1r/movie/frame_001.png\n",
      "Created ../../automated_testing/integrated_tests/idealised/MISMIPplus/results_5km_iceocean1r/movie/frame_002.png\n",
      "Created ../../automated_testing/integrated_tests/idealised/MISMIPplus/results_5km_iceocean1r/movie/frame_003.png\n",
      "Created ../../automated_testing/integrated_tests/idealised/MISMIPplus/results_5km_iceocean1r/movie/frame_004.png\n",
      "Created ../../automated_testing/integrated_tests/idealised/MISMIPplus/results_5km_iceocean1r/movie/frame_005.png\n",
      "Created ../../automated_testing/integrated_tests/idealised/MISMIPplus/results_5km_iceocean1r/movie/frame_006.png\n",
      "Created ../../automated_testing/integrated_tests/idealised/MISMIPplus/results_5km_iceocean1r/movie/frame_007.png\n",
      "Created ../../automated_testing/integrated_tests/idealised/MISMIPplus/results_5km_iceocean1r/movie/frame_008.png\n",
      "Created ../../automated_testing/integrated_tests/idealised/MISMIPplus/results_5km_iceocean1r/movie/frame_009.png\n",
      "Created ../../automated_testing/integrated_tests/idealised/MISMIPplus/results_5km_iceocean1r/movie/frame_010.png\n",
      "Created ../../automated_testing/integrated_tests/idealised/MISMIPplus/results_5km_iceocean1r/movie/frame_011.png\n"
     ]
    },
    {
     "name": "stderr",
     "output_type": "stream",
     "text": [
      "ffmpeg version 4.4.2-0ubuntu0.22.04.1 Copyright (c) 2000-2021 the FFmpeg developers\n",
      "  built with gcc 11 (Ubuntu 11.2.0-19ubuntu1)\n",
      "  configuration: --prefix=/usr --extra-version=0ubuntu0.22.04.1 --toolchain=hardened --libdir=/usr/lib/x86_64-linux-gnu --incdir=/usr/include/x86_64-linux-gnu --arch=amd64 --enable-gpl --disable-stripping --enable-gnutls --enable-ladspa --enable-libaom --enable-libass --enable-libbluray --enable-libbs2b --enable-libcaca --enable-libcdio --enable-libcodec2 --enable-libdav1d --enable-libflite --enable-libfontconfig --enable-libfreetype --enable-libfribidi --enable-libgme --enable-libgsm --enable-libjack --enable-libmp3lame --enable-libmysofa --enable-libopenjpeg --enable-libopenmpt --enable-libopus --enable-libpulse --enable-librabbitmq --enable-librubberband --enable-libshine --enable-libsnappy --enable-libsoxr --enable-libspeex --enable-libsrt --enable-libssh --enable-libtheora --enable-libtwolame --enable-libvidstab --enable-libvorbis --enable-libvpx --enable-libwebp --enable-libx265 --enable-libxml2 --enable-libxvid --enable-libzimg --enable-libzmq --enable-libzvbi --enable-lv2 --enable-omx --enable-openal --enable-opencl --enable-opengl --enable-sdl2 --enable-pocketsphinx --enable-librsvg --enable-libmfx --enable-libdc1394 --enable-libdrm --enable-libiec61883 --enable-chromaprint --enable-frei0r --enable-libx264 --enable-shared\n",
      "  libavutil      56. 70.100 / 56. 70.100\n",
      "  libavcodec     58.134.100 / 58.134.100\n",
      "  libavformat    58. 76.100 / 58. 76.100\n",
      "  libavdevice    58. 13.100 / 58. 13.100\n",
      "  libavfilter     7.110.100 /  7.110.100\n",
      "  libswscale      5.  9.100 /  5.  9.100\n",
      "  libswresample   3.  9.100 /  3.  9.100\n",
      "  libpostproc    55.  9.100 / 55.  9.100\n",
      "Input #0, image2, from '../../automated_testing/integrated_tests/idealised/MISMIPplus/results_5km_iceocean1r/movie/frame_%03d.png':\n",
      "  Duration: 00:00:01.10, start: 0.000000, bitrate: N/A\n",
      "  Stream #0:0: Video: png, rgba(pc), 7680x5760 [SAR 47244:47244 DAR 4:3], 10 fps, 10 tbr, 10 tbn, 10 tbc\n",
      "Stream mapping:\n",
      "  Stream #0:0 -> #0:0 (png (native) -> h264 (libx264))\n",
      "Press [q] to stop, [?] for help\n",
      "[libx264 @ 0x5d7d4ad5a480] using SAR=1/1\n",
      "[libx264 @ 0x5d7d4ad5a480] frame MB size (480x360) > level limit (139264)\n",
      "[libx264 @ 0x5d7d4ad5a480] using cpu capabilities: MMX2 SSE2Fast SSSE3 SSE4.2 AVX FMA3 BMI2 AVX2\n",
      "[libx264 @ 0x5d7d4ad5a480] profile High, level 6.2, 4:2:0, 8-bit\n",
      "[libx264 @ 0x5d7d4ad5a480] 264 - core 163 r3060 5db6aa6 - H.264/MPEG-4 AVC codec - Copyleft 2003-2021 - http://www.videolan.org/x264.html - options: cabac=1 ref=3 deblock=1:0:0 analyse=0x3:0x113 me=hex subme=7 psy=1 psy_rd=1.00:0.00 mixed_ref=1 me_range=16 chroma_me=1 trellis=1 8x8dct=1 cqm=0 deadzone=21,11 fast_pskip=1 chroma_qp_offset=-2 threads=33 lookahead_threads=5 sliced_threads=0 nr=0 decimate=1 interlaced=0 bluray_compat=0 constrained_intra=0 bframes=3 b_pyramid=2 b_adapt=1 b_bias=0 direct=1 weightb=1 open_gop=0 weightp=2 keyint=250 keyint_min=10 scenecut=40 intra_refresh=0 rc_lookahead=40 rc=crf mbtree=1 crf=24.0 qcomp=0.60 qpmin=0 qpmax=69 qpstep=4 ip_ratio=1.40 aq=1:1.00\n",
      "Output #0, mp4, to '../../automated_testing/integrated_tests/idealised/MISMIPplus/results_5km_iceocean1r/movie/BMB_H_lad_T_lad_S_lad_Uabs_lad.mp4':\n",
      "  Metadata:\n",
      "    encoder         : Lavf58.76.100\n",
      "  Stream #0:0: Video: h264 (avc1 / 0x31637661), yuv420p(tv, progressive), 7680x5760 [SAR 1:1 DAR 4:3], q=2-31, 10 fps, 10240 tbn\n",
      "    Metadata:\n",
      "      encoder         : Lavc58.134.100 libx264\n",
      "    Side data:\n",
      "      cpb: bitrate max/min/avg: 0/0/0 buffer size: 0 vbv_delay: N/A\n",
      "frame=   11 fps=4.1 q=-1.0 Lsize=    1987kB time=00:00:00.80 bitrate=20339.9kbits/s speed= 0.3x    \n",
      "video:1986kB audio:0kB subtitle:0kB other streams:0kB global headers:0kB muxing overhead: 0.050511%\n",
      "[libx264 @ 0x5d7d4ad5a480] frame I:1     Avg QP:17.12  size:1174399\n",
      "[libx264 @ 0x5d7d4ad5a480] frame P:3     Avg QP:23.24  size:179705\n",
      "[libx264 @ 0x5d7d4ad5a480] frame B:7     Avg QP:22.63  size: 45573\n",
      "[libx264 @ 0x5d7d4ad5a480] consecutive B-frames:  9.1% 18.2%  0.0% 72.7%\n",
      "[libx264 @ 0x5d7d4ad5a480] mb I  I16..4: 37.2% 42.9% 19.8%\n",
      "[libx264 @ 0x5d7d4ad5a480] mb P  I16..4:  1.0%  0.8%  2.1%  P16..4:  3.2%  0.7%  0.4%  0.0%  0.0%    skip:91.7%\n",
      "[libx264 @ 0x5d7d4ad5a480] mb B  I16..4:  0.6%  0.2%  0.1%  B16..8:  2.3%  0.2%  0.1%  direct: 2.1%  skip:94.4%  L0:37.7% L1:55.3% BI: 7.0%\n",
      "[libx264 @ 0x5d7d4ad5a480] 8x8 transform intra:39.7% inter:73.4%\n",
      "[libx264 @ 0x5d7d4ad5a480] coded y,uvDC,uvAC intra: 15.4% 25.3% 18.3% inter: 2.4% 3.2% 0.5%\n",
      "[libx264 @ 0x5d7d4ad5a480] i16 v,h,dc,p: 74% 19%  6%  0%\n",
      "[libx264 @ 0x5d7d4ad5a480] i8 v,h,dc,ddl,ddr,vr,hd,vl,hu: 62%  6% 30%  1%  1%  0%  1%  0%  0%\n",
      "[libx264 @ 0x5d7d4ad5a480] i4 v,h,dc,ddl,ddr,vr,hd,vl,hu: 37% 21% 19%  5%  3%  4%  4%  3%  3%\n",
      "[libx264 @ 0x5d7d4ad5a480] i8c dc,h,v,p: 84%  9%  6%  1%\n",
      "[libx264 @ 0x5d7d4ad5a480] Weighted P-Frames: Y:0.0% UV:0.0%\n",
      "[libx264 @ 0x5d7d4ad5a480] ref P L0: 63.7% 20.0%  7.5%  8.8%\n",
      "[libx264 @ 0x5d7d4ad5a480] ref B L0: 76.3% 18.9%  4.8%\n",
      "[libx264 @ 0x5d7d4ad5a480] ref B L1: 94.0%  6.0%\n",
      "[libx264 @ 0x5d7d4ad5a480] kb/s:14781.99\n"
     ]
    }
   ],
   "source": [
    "run.make_movie(['BMB','H_lad','T_lad','S_lad','Uabs_lad'])"
   ]
  },
  {
   "cell_type": "markdown",
   "metadata": {},
   "source": [
    "### Choose a mesh number for plotting"
   ]
  },
  {
   "cell_type": "code",
   "execution_count": 18,
   "metadata": {},
   "outputs": [
    {
     "data": {
      "text/plain": [
       "11"
      ]
     },
     "execution_count": 18,
     "metadata": {},
     "output_type": "execute_result"
    }
   ],
   "source": [
    "#Load mesh\n",
    "mesh = run.get_mesh(1)\n",
    "\n",
    "#Check number of available time slices\n",
    "mesh.Ntimes"
   ]
  },
  {
   "cell_type": "markdown",
   "metadata": {},
   "source": [
    "### Choose variables and time slice for making a plot"
   ]
  },
  {
   "cell_type": "code",
   "execution_count": 23,
   "metadata": {},
   "outputs": [
    {
     "name": "stdout",
     "output_type": "stream",
     "text": [
      "Created ../../automated_testing/integrated_tests/idealised/MISMIPplus/results_5km_iceocean1r/figures/BMB_H_lad_000000.pdf\n"
     ]
    }
   ],
   "source": [
    "mesh.make_plot(['BMB','H_lad'],0,format='pdf')"
   ]
  },
  {
   "cell_type": "code",
   "execution_count": null,
   "metadata": {},
   "outputs": [],
   "source": []
  }
 ],
 "metadata": {
  "kernelspec": {
   "display_name": "ufelad",
   "language": "python",
   "name": "python3"
  },
  "language_info": {
   "codemirror_mode": {
    "name": "ipython",
    "version": 3
   },
   "file_extension": ".py",
   "mimetype": "text/x-python",
   "name": "python",
   "nbconvert_exporter": "python",
   "pygments_lexer": "ipython3",
   "version": "3.13.2"
  }
 },
 "nbformat": 4,
 "nbformat_minor": 2
}
